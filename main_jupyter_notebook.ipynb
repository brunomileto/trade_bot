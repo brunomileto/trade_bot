{
 "metadata": {
  "language_info": {
   "codemirror_mode": {
    "name": "ipython",
    "version": 3
   },
   "file_extension": ".py",
   "mimetype": "text/x-python",
   "name": "python",
   "nbconvert_exporter": "python",
   "pygments_lexer": "ipython3",
   "version": "3.7.8-final"
  },
  "orig_nbformat": 2,
  "kernelspec": {
   "name": "python_defaultSpec_1599425664096",
   "display_name": "Python 3.7.8 32-bit ('venv': venv)"
  }
 },
 "nbformat": 4,
 "nbformat_minor": 2,
 "cells": [
  {
   "cell_type": "code",
   "execution_count": 9,
   "metadata": {},
   "outputs": [],
   "source": [
    "from binance.client import Client\n",
    "import logging.config\n",
    "from datetime import datetime\n",
    "import logging\n"
   ]
  },
  {
   "cell_type": "code",
   "execution_count": 10,
   "metadata": {},
   "outputs": [],
   "source": [
    "API_KEY_TEST = 'VdBnQ9rM60MqELvvII4m7Pi6SBk06Urt6AAG2ixMTdX5maagTWrjZlr3MIaHsW9c'\n",
    "SECRET_KEY_TEST = 'n1owlwcLarcLQNkJgwG8fdrjKgjuuE8aWiCVJcIJygLTPkHGBwPJMVO34yAJMaqK'\n",
    "API_KEY = \"T8OAWzBGVHVJokT6nHxP6Eqo0HNGkl9xgK79TmUXtbQhCI1M2rXwzA4E9C7rSTyI\"\n",
    "SECRET_KEY = \"x6BUKF8D9tCEOT0ZyeME0Nchglngudw7HcVD7qzB1uy7BN0c7tUZJGbJDXFrJKD2\"\n",
    "API_TEST_URL = 'https://testnet.binance.vision/api'"
   ]
  },
  {
   "cell_type": "code",
   "execution_count": 11,
   "metadata": {},
   "outputs": [],
   "source": [
    "class MyAccount:\n",
    "\n",
    "    INTERVAL_ONE_M = Client.KLINE_INTERVAL_1MINUTE\n",
    "    INTERVAL_FIVE_M = Client.KLINE_INTERVAL_5MINUTE\n",
    "    INTERVAL_FIFTEEN_M = Client.KLINE_INTERVAL_15MINUTE\n",
    "    INTERVAL = [INTERVAL_ONE_M, INTERVAL_FIVE_M, INTERVAL_FIFTEEN_M]\n",
    "    Client()\n",
    "    def __init__(self, minimum_order_len, api_key, secret_key, isTest):\n",
    "        self.client = Client(api_key=api_key, api_secret=secret_key)\n",
    "        if isTest is True:\n",
    "            self.client.API_URL = 'https://testnet.binance.vision/api'\n",
    "        self.account = self.client.get_account()\n",
    "        self.aceptable_loss = 0.1\n",
    "        self.max_trade_taxes = 0.001\n",
    "        self.minimum_order_len = minimum_order_len\n",
    "        self.bot_status = 'STAND_BY'\n",
    "\n",
    "    def reverse_list(self, data_list):\n",
    "        rev = data_list_param[::-1]\n",
    "        return rev\n",
    "\n",
    "    def dict_timestamp_to_time(self, data_dict, field_time_name):\n",
    "        data_dict[field_time_name] = datetime.fromtimestamp(\n",
    "            data_dict[field_time_name]/1000)\n",
    "        return data_dict"
   ]
  },
  {
   "cell_type": "code",
   "execution_count": 66,
   "metadata": {},
   "outputs": [],
   "source": [
    "class Asset(MyAccount):\n",
    "    def __init__(self, asset_main, asset_pair, minimum_order_len, api_key, secret_key,isTest, interval='5', limit_data=202):\n",
    "        super().__init__(minimum_order_len, api_key, secret_key,isTest)\n",
    "        self.asset_main = asset_main.upper()\n",
    "        self.asset_pair = asset_pair.upper()\n",
    "        self.symbol = self.asset_main + self.asset_pair\n",
    "        self.interval = self.INTERVAL_ONE_M\n",
    "        # self.interval = self.interval[0]\n",
    "        self.limit_data = limit_data\n",
    "        # self.asset_candle_data_list = None\n",
    "        self.tendency = None\n",
    "        self.actual_price = None\n",
    "        self.candle_data_list = []\n",
    "        self.close_price_list = []\n",
    "        self.close_volume_list = []\n",
    "        self.my_init_asset_trade_balance = self.get_account_asset_balance(\n",
    "            self.asset_pair)\n",
    "        self.current_operated_asset_quantity = None\n",
    "        self.mm8_now = None\n",
    "        self.mm8_before = None\n",
    "        self.mm10_now = None\n",
    "        self.mm10_before = None\n",
    "        self.mm20_now = None\n",
    "        self.mm20_before = None\n",
    "        self.mm50_now = None\n",
    "        self.mm50_before = None\n",
    "        self.mm200_now = None\n",
    "        self.mm200_before = None\n",
    "        self.close_now = None\n",
    "        self.close_before = None\n",
    "        self.volume_now = None\n",
    "        self.volume_before = None\n",
    "        self.data_list_for_dict_print = ['self.mm8_now', 'self.mm8_before',' self.mm10_now', 'self.mm10_before',\n",
    "                                         'self.mm20_now', 'self.mm20_before', 'self.mm50_now', 'self.mm50_before',                                                    'self.mm200_now', 'self.mm200_before', 'self.close_now', 'self.close_before',                                                'self.volume_now', 'self.volume_before']\n",
    "        self.data_dict_for_print = {}\n",
    "        for var in self.data_list_for_dict_print:\n",
    "            self.data_dict_for_print[var] = eval(var)\n",
    "\n",
    "    def get_account_asset_balance(self, asset):\n",
    "        for balance in range(len(self.account['balances'])):\n",
    "            if self.account['balances'][balance]['asset'] == asset:\n",
    "                return round(float(self.account['balances'][balance]['free']), 4)\n",
    "\n",
    "    def get_candle_asset_data(self):\n",
    "        return self.reverse_list(client.get_klines(symbol=self.symbol, interval=self.interval))\n",
    "\n",
    "    def mm_now(self, period):\n",
    "        numbers_series = pd.Series(self.close_price_list)\n",
    "        windows = numbers_series.rolling(period_number)\n",
    "        moving_averages = windows.mean()\n",
    "        moving_averages_list = moving_averages.tolist()\n",
    "        without_nans = moving_averages_list[period_number - 1:]\n",
    "        return round(without_nans[0], 3)\n",
    "\n",
    "    def mm_before(self, period):\n",
    "        numbers_series = pd.Series(self.close_price_list)\n",
    "        windows = numbers_series.rolling(period_number)\n",
    "        moving_averages = windows.mean()\n",
    "        moving_averages_list = moving_averages.tolist()\n",
    "        without_nans = moving_averages_list[period_number - 1:]\n",
    "        return round(without_nans[1], 3)\n",
    "\n",
    "    def create_close_list(self):\n",
    "        data = self.get_candle_asset_data()\n",
    "        for index in range(1, len(data)):\n",
    "            self.close_price_list.append(float(data[index][4]))\n",
    "            self.close_volume_list.append(float(data[index][5]))\n",
    "\n",
    "    def calculate_indicators(self):\n",
    "        self.create_close_price_list()\n",
    "        self.create_close_volume_list()\n",
    "        self.mm8_now = self.mm_now(8)\n",
    "        self.mm8_before = self.mm_before(8)\n",
    "        self.mm10_now = self.mm_now(10)\n",
    "        self.mm10_before = self.mm_before(10)\n",
    "        self.mm20_now = self.mm_now(20)\n",
    "        self.mm20_before = self.mm_before(20)\n",
    "        self.mm50_now = self.mm_now(50)\n",
    "        self.mm50_before = self.mm_before(50)\n",
    "        self.mm200_now = self.mm_now(200)\n",
    "        self.mm200_before = self.mm_before(200)\n",
    "        self.close_now = self.close_price_list[0]\n",
    "        self.close_before = self.close_price_list[1]\n",
    "        self.volume_now = self.close_volume_list[0]\n",
    "        self.volume_before = self.close_volume_list[1]\n",
    "        self.actual_price = self.close_now\n",
    "\n",
    "    def check_asset_tendency_lvl_easy(self):\n",
    "        if self.mm20_now > self.mm20_before:\n",
    "            if self.close_now > self.close_before:\n",
    "                return 'UP'\n",
    "        if self.mm20_now < self.mm20_before:\n",
    "            if self.close_now < self.close_before:\n",
    "                return 'DOWN'\n",
    "        else:\n",
    "            return 'STAND'\n"
   ]
  },
  {
   "cell_type": "code",
   "execution_count": 67,
   "metadata": {},
   "outputs": [],
   "source": [
    "class Trade(Asset, MyAccount):\n",
    "    def __init__(self, minimum_order_len, api_key, secret_key, isTest, asset_main, asset_pair, interval='5', limit_data=202):\n",
    "        super().__init__(asset_main, asset_pair, minimum_order_len, api_key, secret_key, isTest)\n",
    "        self.order_quantity = None\n",
    "        self.order_made = None\n",
    "        self.order_made_id = None\n",
    "        self.order_made_status = None\n",
    "        self.order_made_time = None\n",
    "        self.order_executed = None\n",
    "        self.order_executed_quantity = None\n",
    "        self.order_executed_side = None\n",
    "        self.order_executed_price = None\n",
    "\n",
    "    def make_market_order(self):\n",
    "        if self.tendency == 'STAND':\n",
    "            return\n",
    "        else:\n",
    "            self.order_quantity = round(\n",
    "                self.minimum_order_len/self.actual_price, 3)\n",
    "\n",
    "            if self.tendency == 'UP':\n",
    "                self.oder_made = self.client.order_market_buy(\n",
    "                    symbol=self.symbol, quantity=self.order_quantity)\n",
    "\n",
    "            if self.tendency == 'DOWN':\n",
    "                self.oder_made = self.client.order_market_sell(\n",
    "                    symbol=self.symbol, quantity=self.order_quantity)\n",
    "\n",
    "            self.order_made = self.dict_timestamp_to_time(\n",
    "                self.order_made, 'transactTime')\n",
    "            self.order_made_id = self.order_made['orderId']\n",
    "            self.order_made_status = self.order_made['status']\n",
    "            self.order_made_time = self.order_made['transactTime']\n",
    "\n",
    "    def check_order_made_status(self):\n",
    "        while True:\n",
    "            order = self.client.get_order(\n",
    "                symbol=self.symbol, orderId=self.order_made_id)\n",
    "            status = order['status']\n",
    "            if self.order_made_time + timedelta(minutes=5) < datetime.now():\n",
    "                if status == 'PARTIALLY_FILLED':\n",
    "                    if self.order_made_time + timedelta(minutes=20) < datetime.now():\n",
    "                        self.order_made_status = status\n",
    "                        return\n",
    "                if status == 'NEW':\n",
    "                    self.order_made_status = status\n",
    "                    return\n",
    "            if status in ['FILLED', 'CANCELED', 'REJECTED', 'EXPIRED']:\n",
    "                self.order_made_status = status\n",
    "                return\n"
   ]
  },
  {
   "cell_type": "code",
   "execution_count": 68,
   "metadata": {},
   "outputs": [],
   "source": [
    "asset_m = 'BNB'\n",
    "asset_p = 'USDT'\n",
    "minimum_order = 0.1\n",
    "api_k = API_KEY\n",
    "secret_k = SECRET_KEY\n",
    "test = False\n",
    "inter = 5\n",
    "limit = 202"
   ]
  },
  {
   "cell_type": "code",
   "execution_count": 69,
   "metadata": {},
   "outputs": [],
   "source": [
    "acc =MyAccount(minimum_order_len=minimum_order, api_key=api_k, secret_key=secret_k, isTest=test)\n",
    "trade = Trade(asset_main=asset_m, asset_pair=asset_p, minimum_order_len=minimum_order, api_key=api_k, secret_key=secret_k, isTest=test, interval=inter, limit_data=limit)"
   ]
  },
  {
   "cell_type": "code",
   "execution_count": 75,
   "metadata": {},
   "outputs": [
    {
     "output_type": "execute_result",
     "data": {
      "text/plain": "10"
     },
     "metadata": {},
     "execution_count": 75
    }
   ],
   "source": []
  },
  {
   "cell_type": "code",
   "execution_count": 1,
   "metadata": {},
   "outputs": [],
   "source": [
    "preco_atual = 0.0022327"
   ]
  },
  {
   "cell_type": "code",
   "execution_count": 4,
   "metadata": {},
   "outputs": [],
   "source": [
    "posicao_atual = 'vendido'"
   ]
  },
  {
   "cell_type": "code",
   "execution_count": 5,
   "metadata": {},
   "outputs": [],
   "source": [
    "aceito_perder = 0.1"
   ]
  },
  {
   "cell_type": "code",
   "execution_count": 6,
   "metadata": {},
   "outputs": [],
   "source": [
    "quantidade_bnb = 0.69"
   ]
  },
  {
   "cell_type": "code",
   "execution_count": 7,
   "metadata": {},
   "outputs": [],
   "source": [
    "quantidade_btc = 0.0"
   ]
  },
  {
   "cell_type": "code",
   "execution_count": 15,
   "metadata": {},
   "outputs": [],
   "source": [
    "quantidade_ordem_venda_bnb = 0.1\n",
    "taxas = 0.001"
   ]
  },
  {
   "cell_type": "code",
   "execution_count": 35,
   "metadata": {},
   "outputs": [
    {
     "output_type": "execute_result",
     "data": {
      "text/plain": "0.00022304673"
     },
     "metadata": {},
     "execution_count": 35
    }
   ],
   "source": [
    "quantidade_btc_pos_venda_bnb = (preco_atual*quantidade_ordem_venda_bnb)\n",
    "op_taxas = quantidade_btc_pos_venda_bnb*taxas\n",
    "op_taxas\n",
    "quantidade_btc_pos_venda_bnb = quantidade_btc_pos_venda_bnb - op_taxas\n",
    "quantidade_btc_pos_venda_bnb\n"
   ]
  },
  {
   "cell_type": "code",
   "execution_count": 38,
   "metadata": {},
   "outputs": [
    {
     "output_type": "execute_result",
     "data": {
      "text/plain": "0.005"
     },
     "metadata": {},
     "execution_count": 38
    }
   ],
   "source": [
    "novo_preco = 0.005\n",
    "novo_preco"
   ]
  },
  {
   "cell_type": "code",
   "execution_count": 39,
   "metadata": {},
   "outputs": [
    {
     "output_type": "execute_result",
     "data": {
      "text/plain": "0.044609346"
     },
     "metadata": {},
     "execution_count": 39
    }
   ],
   "source": [
    "qtd_retorno = quantidade_btc_pos_venda_bnb/novo_preco\n",
    "qtd_retorno "
   ]
  },
  {
   "cell_type": "code",
   "execution_count": 45,
   "metadata": {},
   "outputs": [
    {
     "output_type": "execute_result",
     "data": {
      "text/plain": "0.010000000000000002"
     },
     "metadata": {},
     "execution_count": 45
    }
   ],
   "source": [
    "stop_loss = quantidade_ordem_venda_bnb*aceito_perder\n",
    "stop_loss"
   ]
  },
  {
   "cell_type": "code",
   "execution_count": 46,
   "metadata": {
    "tags": []
   },
   "outputs": [
    {
     "output_type": "stream",
     "name": "stdout",
     "text": "loss\n"
    }
   ],
   "source": [
    "if qtd_retorno < quantidade_ordem_venda_bnb - stop_loss:\n",
    "    print('loss')"
   ]
  },
  {
   "cell_type": "code",
   "execution_count": null,
   "metadata": {},
   "outputs": [],
   "source": []
  }
 ]
}